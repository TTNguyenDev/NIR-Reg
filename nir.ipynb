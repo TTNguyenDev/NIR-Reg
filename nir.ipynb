{
 "cells": [
  {
   "cell_type": "code",
   "execution_count": 1,
   "metadata": {},
   "outputs": [],
   "source": [
    "import ssl\n",
    "ssl._create_default_https_context = ssl._create_unverified_context\n",
    "\n",
    "import numpy as np\n",
    "from sklearn import datasets\n",
    "from sklearn.decomposition import PCA\n",
    "from sklearn.discriminant_analysis import LinearDiscriminantAnalysis as LDA\n",
    "from sklearn.model_selection import train_test_split \n",
    "from sklearn.metrics import accuracy_score\n",
    "\n",
    "from os import walk\n",
    "import cv2\n",
    "\n",
    "from skimage import feature\n",
    "from sklearn.model_selection import GridSearchCV #hyper param tunning\n",
    "from sklearn.svm import SVC #predict algorithm\n",
    "from sklearn.metrics import classification_report #evaluation"
   ]
  },
  {
   "cell_type": "code",
   "execution_count": 2,
   "metadata": {},
   "outputs": [],
   "source": [
    "def loadData(dirPath):\n",
    "    X=[]\n",
    "    y=[]\n",
    "    for (dirpath, dirnames, filenames) in walk(dirPath):\n",
    "        for filename in filenames:\n",
    "            if filename != '.DS_Store': \n",
    "                img = cv2.cvtColor(cv2.imread(dirPath+'/'+filename), cv2.COLOR_BGR2GRAY)\n",
    "                label = int(filename.split('_')[0])\n",
    "                X.append(img)\n",
    "                y.append(label)\n",
    "    return X, y\n",
    "\n",
    "def predict_image(X, model):\n",
    "    y_pred = []\n",
    "    for i in X: \n",
    "        label = model.predict(i)\n",
    "        y_pred.append(label[0])\n",
    "    return y_pred\n",
    "\n",
    "def accuracy(y, y_pred):\n",
    "    return accuracy_score(y, y_pred)"
   ]
  },
  {
   "cell_type": "code",
   "execution_count": 3,
   "metadata": {},
   "outputs": [],
   "source": [
    "X_nir, y_nir = loadData('dataset2/NIR')\n",
    "X_vsb, y_vsb = loadData('dataset2/VSB')\n",
    "\n",
    "X_train_nir, X_test_nir, y_train_nir, y_test_nir = train_test_split(X_nir, y_nir, test_size=0.2, random_state=42)\n",
    "X_train_vsb, X_test_vsb, y_train_vsb, y_test_vsb = train_test_split(X_vsb, y_vsb, test_size=0.2, random_state=42)"
   ]
  },
  {
   "cell_type": "code",
   "execution_count": 4,
   "metadata": {},
   "outputs": [
    {
     "name": "stdout",
     "output_type": "stream",
     "text": [
      "NIR Accuracy: 0.95\n",
      "VSB Accuracy: 0.945\n"
     ]
    }
   ],
   "source": [
    "# public static LBPHFaceRecognizer create(int radius, int neighbors, int grid_x, int grid_y, double threshold)\n",
    "nir_model = cv2.face.LBPHFaceRecognizer_create()\n",
    "nir_model.train(X_train_nir, np.array(y_train_nir))\n",
    "y_pred = predict_image(X_test_nir, nir_model)\n",
    "print(\"NIR Accuracy: \"+ str(accuracy(y_test_nir, y_pred)))\n",
    "\n",
    "vsb_model = cv2.face.LBPHFaceRecognizer_create()\n",
    "vsb_model.train(X_train_vsb, np.array(y_train_vsb))\n",
    "y_pred = predict_image(X_test_vsb, vsb_model)\n",
    "print(\"VSB Accuracy: \"+ str(accuracy(y_test_vsb, y_pred)))"
   ]
  },
  {
   "cell_type": "code",
   "execution_count": null,
   "metadata": {},
   "outputs": [],
   "source": []
  }
 ],
 "metadata": {
  "kernelspec": {
   "display_name": "Python 3.7.3 64-bit",
   "language": "python",
   "name": "python37364bit696aeacbd28c44b899a0d42ab4842e74"
  },
  "language_info": {
   "codemirror_mode": {
    "name": "ipython",
    "version": 3
   },
   "file_extension": ".py",
   "mimetype": "text/x-python",
   "name": "python",
   "nbconvert_exporter": "python",
   "pygments_lexer": "ipython3",
   "version": "3.7.3"
  }
 },
 "nbformat": 4,
 "nbformat_minor": 4
}
