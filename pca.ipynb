{
 "cells": [
  {
   "cell_type": "code",
   "execution_count": 1,
   "metadata": {},
   "outputs": [],
   "source": [
    "import ssl\n",
    "ssl._create_default_https_context = ssl._create_unverified_context\n",
    "\n",
    "import numpy as np\n",
    "from sklearn import datasets\n",
    "from sklearn.decomposition import PCA\n",
    "from sklearn.discriminant_analysis import LinearDiscriminantAnalysis as LDA\n",
    "from sklearn.model_selection import train_test_split \n",
    "from sklearn.svm import SVC\n",
    "from sklearn.model_selection import GridSearchCV\n",
    "from sklearn.metrics import accuracy_score\n",
    "\n",
    "from os import walk\n",
    "import cv2\n",
    "\n",
    "from skimage import feature\n",
    "from sklearn.model_selection import GridSearchCV #hyper param tunning\n",
    "from sklearn.svm import SVC #predict algorithm\n",
    "from sklearn.metrics import classification_report #evaluation"
   ]
  },
  {
   "cell_type": "code",
   "execution_count": 2,
   "metadata": {},
   "outputs": [],
   "source": [
    "def loadData(dirPath):\n",
    "    X=[]\n",
    "    y=[]\n",
    "    for (dirpath, dirnames, filenames) in walk(dirPath):\n",
    "        for filename in filenames:\n",
    "            if filename != '.DS_Store': \n",
    "                img = cv2.cvtColor(cv2.imread(dirPath+'/'+filename), cv2.COLOR_BGR2GRAY)\n",
    "                img = np.array(img, dtype='float64').flatten()\n",
    "                label = int(filename.split('_')[0])\n",
    "                X.append(img)\n",
    "                y.append(label)\n",
    "    return X, y\n",
    "\n",
    "def predict_image(X, model):\n",
    "    y_pred = []\n",
    "    for i in X: \n",
    "        label = model.predict(i)\n",
    "        y_pred.append(label[0])\n",
    "    return y_pred\n",
    "\n",
    "def accuracy(y, y_pred):\n",
    "    return accuracy_score(y, y_pred)"
   ]
  },
  {
   "cell_type": "code",
   "execution_count": 3,
   "metadata": {},
   "outputs": [],
   "source": [
    "X_nir, y_nir = loadData('dataset2/NIR')\n",
    "X_vsb, y_vsb = loadData('dataset2/VSB')\n",
    "\n",
    "X_train_nir, X_test_nir, y_train_nir, y_test_nir = train_test_split(X_nir, y_nir, test_size=0.2, random_state=42)\n",
    "X_train_vsb, X_test_vsb, y_train_vsb, y_test_vsb = train_test_split(X_vsb, y_vsb, test_size=0.2, random_state=42)"
   ]
  },
  {
   "cell_type": "code",
   "execution_count": 4,
   "metadata": {
    "tags": [
     "outputPrepend"
    ]
   },
   "outputs": [
    {
     "output_type": "stream",
     "name": "stdout",
     "text": "NIR Accuracy: 0.92\nVSB Accuracy: 0.86\n"
    }
   ],
   "source": [
    "# public static LBPHFaceRecognizer create(int radius, int neighbors, int grid_x, int grid_y, double threshold)\n",
    "\n",
    "nir_model =  PCA(n_components=20, svd_solver='randomized',\n",
    "          whiten=True).fit(X_train_nir)\n",
    "X_train_nir = nir_model.transform(X_train_nir)\n",
    "X_test_nir = nir_model.transform(X_test_nir)\n",
    "param_grid = {'C': [1e3, 5e3, 1e4, 5e4, 1e5],\n",
    "              'gamma': [0.0001, 0.0005, 0.001, 0.005, 0.01, 0.1], }\n",
    "clf = GridSearchCV(SVC(kernel='rbf', class_weight='balanced'), param_grid)\n",
    "clf = clf.fit(X_train_nir, y_train_nir)\n",
    "\n",
    "\n",
    "y_pred = clf.predict(X_test_nir)\n",
    "print(\"NIR Accuracy: \"+ str(accuracy(y_test_nir, y_pred)))\n",
    "\n",
    "\n",
    "vsb_model =  PCA(n_components=20, svd_solver='randomized',\n",
    "          whiten=True).fit(X_train_vsb)\n",
    "X_train_vsb = vsb_model.transform(X_train_vsb)\n",
    "X_test_vsb = vsb_model.transform(X_test_vsb)\n",
    "#vsb_model.train(X_train_vsb, np.array(y_train_vsb))\n",
    "param_grid = {'C': [1e3, 5e3, 1e4, 5e4, 1e5],\n",
    "              'gamma': [0.0001, 0.0005, 0.001, 0.005, 0.01, 0.1], }\n",
    "clf = GridSearchCV(SVC(kernel='rbf', class_weight='balanced'), param_grid)\n",
    "clf = clf.fit(X_train_vsb, y_train_vsb)\n",
    "\n",
    "\n",
    "y_pred = clf.predict(X_test_vsb)\n",
    "print(\"VSB Accuracy: \"+ str(accuracy(y_test_vsb, y_pred)))"
   ]
  },
  {
   "cell_type": "code",
   "execution_count": null,
   "metadata": {},
   "outputs": [],
   "source": []
  }
 ],
 "metadata": {
  "language_info": {
   "codemirror_mode": {
    "name": "ipython",
    "version": 3
   },
   "file_extension": ".py",
   "mimetype": "text/x-python",
   "name": "python",
   "nbconvert_exporter": "python",
   "pygments_lexer": "ipython3",
   "version": "3.7.6-final"
  },
  "orig_nbformat": 2,
  "kernelspec": {
   "name": "python37664bitbaseconda14fb4d0d22764da183fc40c7d80238db",
   "display_name": "Python 3.7.6 64-bit ('base': conda)"
  }
 },
 "nbformat": 4,
 "nbformat_minor": 2
}