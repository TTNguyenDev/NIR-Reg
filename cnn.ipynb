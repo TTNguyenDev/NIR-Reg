{
 "cells": [
  {
   "cell_type": "markdown",
   "metadata": {
    "colab_type": "text",
    "id": "m7KBpffWzlxH"
   },
   "source": [
    "### Import TensorFlow"
   ]
  },
  {
   "cell_type": "code",
   "execution_count": 1,
   "metadata": {
    "colab": {},
    "colab_type": "code",
    "id": "iAve6DCL4JH4"
   },
   "outputs": [
    {
     "name": "stdout",
     "output_type": "stream",
     "text": [
      "Requirement already satisfied: tensorflow in /Users/ttnguyen/Library/Python/3.7/lib/python/site-packages (2.2.0)\n",
      "Requirement already satisfied: tensorflow-estimator<2.3.0,>=2.2.0 in /Users/ttnguyen/Library/Python/3.7/lib/python/site-packages (from tensorflow) (2.2.0)\n",
      "Requirement already satisfied: wrapt>=1.11.1 in /Users/ttnguyen/Library/Python/3.7/lib/python/site-packages (from tensorflow) (1.11.2)\n",
      "Requirement already satisfied: protobuf>=3.8.0 in /Users/ttnguyen/Library/Python/3.7/lib/python/site-packages (from tensorflow) (3.12.2)\n",
      "Requirement already satisfied: grpcio>=1.8.6 in /Users/ttnguyen/Library/Python/3.7/lib/python/site-packages (from tensorflow) (1.29.0)\n",
      "Requirement already satisfied: six>=1.12.0 in /Applications/Xcode.app/Contents/Developer/Library/Frameworks/Python3.framework/Versions/3.7/lib/python3.7/site-packages (from tensorflow) (1.12.0)\n",
      "Requirement already satisfied: numpy<2.0,>=1.16.0 in /Users/ttnguyen/Library/Python/3.7/lib/python/site-packages (from tensorflow) (1.16.4)\n",
      "Requirement already satisfied: wheel>=0.26; python_version >= \"3\" in /Applications/Xcode.app/Contents/Developer/Library/Frameworks/Python3.framework/Versions/3.7/lib/python3.7/site-packages (from tensorflow) (0.33.1)\n",
      "Requirement already satisfied: google-pasta>=0.1.8 in /Users/ttnguyen/Library/Python/3.7/lib/python/site-packages (from tensorflow) (0.2.0)\n",
      "Requirement already satisfied: opt-einsum>=2.3.2 in /Users/ttnguyen/Library/Python/3.7/lib/python/site-packages (from tensorflow) (3.2.1)\n",
      "Requirement already satisfied: tensorboard<2.3.0,>=2.2.0 in /Users/ttnguyen/Library/Python/3.7/lib/python/site-packages (from tensorflow) (2.2.2)\n",
      "Requirement already satisfied: scipy==1.4.1; python_version >= \"3\" in /Users/ttnguyen/Library/Python/3.7/lib/python/site-packages (from tensorflow) (1.4.1)\n",
      "Requirement already satisfied: astunparse==1.6.3 in /Users/ttnguyen/Library/Python/3.7/lib/python/site-packages (from tensorflow) (1.6.3)\n",
      "Requirement already satisfied: gast==0.3.3 in /Users/ttnguyen/Library/Python/3.7/lib/python/site-packages (from tensorflow) (0.3.3)\n",
      "Requirement already satisfied: keras-preprocessing>=1.1.0 in /Users/ttnguyen/Library/Python/3.7/lib/python/site-packages (from tensorflow) (1.1.2)\n",
      "Requirement already satisfied: termcolor>=1.1.0 in /Users/ttnguyen/Library/Python/3.7/lib/python/site-packages (from tensorflow) (1.1.0)\n",
      "Requirement already satisfied: absl-py>=0.7.0 in /Users/ttnguyen/Library/Python/3.7/lib/python/site-packages (from tensorflow) (0.9.0)\n",
      "Requirement already satisfied: h5py<2.11.0,>=2.10.0 in /Users/ttnguyen/Library/Python/3.7/lib/python/site-packages (from tensorflow) (2.10.0)\n",
      "Requirement already satisfied: setuptools in /Users/ttnguyen/Library/Python/3.7/lib/python/site-packages (from protobuf>=3.8.0->tensorflow) (47.1.1)\n",
      "Requirement already satisfied: markdown>=2.6.8 in /Users/ttnguyen/Library/Python/3.7/lib/python/site-packages (from tensorboard<2.3.0,>=2.2.0->tensorflow) (3.2.2)\n",
      "Requirement already satisfied: google-auth<2,>=1.6.3 in /Users/ttnguyen/Library/Python/3.7/lib/python/site-packages (from tensorboard<2.3.0,>=2.2.0->tensorflow) (1.16.0)\n",
      "Requirement already satisfied: requests<3,>=2.21.0 in /Users/ttnguyen/Library/Python/3.7/lib/python/site-packages (from tensorboard<2.3.0,>=2.2.0->tensorflow) (2.23.0)\n",
      "Requirement already satisfied: werkzeug>=0.11.15 in /Users/ttnguyen/Library/Python/3.7/lib/python/site-packages (from tensorboard<2.3.0,>=2.2.0->tensorflow) (1.0.1)\n",
      "Requirement already satisfied: tensorboard-plugin-wit>=1.6.0 in /Users/ttnguyen/Library/Python/3.7/lib/python/site-packages (from tensorboard<2.3.0,>=2.2.0->tensorflow) (1.6.0.post3)\n",
      "Requirement already satisfied: google-auth-oauthlib<0.5,>=0.4.1 in /Users/ttnguyen/Library/Python/3.7/lib/python/site-packages (from tensorboard<2.3.0,>=2.2.0->tensorflow) (0.4.1)\n",
      "Requirement already satisfied: importlib-metadata; python_version < \"3.8\" in /Users/ttnguyen/Library/Python/3.7/lib/python/site-packages (from markdown>=2.6.8->tensorboard<2.3.0,>=2.2.0->tensorflow) (1.6.0)\n",
      "Requirement already satisfied: rsa<4.1,>=3.1.4 in /Users/ttnguyen/Library/Python/3.7/lib/python/site-packages (from google-auth<2,>=1.6.3->tensorboard<2.3.0,>=2.2.0->tensorflow) (4.0)\n",
      "Requirement already satisfied: cachetools<5.0,>=2.0.0 in /Users/ttnguyen/Library/Python/3.7/lib/python/site-packages (from google-auth<2,>=1.6.3->tensorboard<2.3.0,>=2.2.0->tensorflow) (4.1.0)\n",
      "Requirement already satisfied: pyasn1-modules>=0.2.1 in /Users/ttnguyen/Library/Python/3.7/lib/python/site-packages (from google-auth<2,>=1.6.3->tensorboard<2.3.0,>=2.2.0->tensorflow) (0.2.8)\n",
      "Requirement already satisfied: certifi>=2017.4.17 in /Users/ttnguyen/Library/Python/3.7/lib/python/site-packages (from requests<3,>=2.21.0->tensorboard<2.3.0,>=2.2.0->tensorflow) (2020.4.5.1)\n",
      "Requirement already satisfied: chardet<4,>=3.0.2 in /Users/ttnguyen/Library/Python/3.7/lib/python/site-packages (from requests<3,>=2.21.0->tensorboard<2.3.0,>=2.2.0->tensorflow) (3.0.4)\n",
      "Requirement already satisfied: urllib3!=1.25.0,!=1.25.1,<1.26,>=1.21.1 in /Users/ttnguyen/Library/Python/3.7/lib/python/site-packages (from requests<3,>=2.21.0->tensorboard<2.3.0,>=2.2.0->tensorflow) (1.25.9)\n",
      "Requirement already satisfied: idna<3,>=2.5 in /Users/ttnguyen/Library/Python/3.7/lib/python/site-packages (from requests<3,>=2.21.0->tensorboard<2.3.0,>=2.2.0->tensorflow) (2.9)\n",
      "Requirement already satisfied: requests-oauthlib>=0.7.0 in /Users/ttnguyen/Library/Python/3.7/lib/python/site-packages (from google-auth-oauthlib<0.5,>=0.4.1->tensorboard<2.3.0,>=2.2.0->tensorflow) (1.3.0)\n",
      "Requirement already satisfied: zipp>=0.5 in /Users/ttnguyen/Library/Python/3.7/lib/python/site-packages (from importlib-metadata; python_version < \"3.8\"->markdown>=2.6.8->tensorboard<2.3.0,>=2.2.0->tensorflow) (3.1.0)\n",
      "Requirement already satisfied: pyasn1>=0.1.3 in /Users/ttnguyen/Library/Python/3.7/lib/python/site-packages (from rsa<4.1,>=3.1.4->google-auth<2,>=1.6.3->tensorboard<2.3.0,>=2.2.0->tensorflow) (0.4.8)\n",
      "Requirement already satisfied: oauthlib>=3.0.0 in /Users/ttnguyen/Library/Python/3.7/lib/python/site-packages (from requests-oauthlib>=0.7.0->google-auth-oauthlib<0.5,>=0.4.1->tensorboard<2.3.0,>=2.2.0->tensorflow) (3.1.0)\n",
      "\u001b[33mYou are using pip version 19.0.3, however version 20.2b1 is available.\n",
      "You should consider upgrading via the 'pip install --upgrade pip' command.\u001b[0m\n"
     ]
    }
   ],
   "source": [
    "!pip3 install tensorflow --user\n",
    "import tensorflow as tf\n",
    "\n",
    "from tensorflow.keras import datasets, layers, models\n",
    "import matplotlib.pyplot as plt\n",
    "\n",
    "from os import walk\n",
    "import cv2\n",
    "\n",
    "from sklearn.model_selection import train_test_split \n",
    "import numpy as np"
   ]
  },
  {
   "cell_type": "code",
   "execution_count": 2,
   "metadata": {
    "colab": {},
    "colab_type": "code",
    "id": "JWoEqyMuXFF4"
   },
   "outputs": [],
   "source": [
    "# (train_images, train_labels), (test_images, test_labels) = datasets.cifar10.load_data()\n",
    "\n",
    "def loadData(dirPath):\n",
    "    X=[]\n",
    "    y=[]\n",
    "    for (dirpath, dirnames, filenames) in walk(dirPath):\n",
    "        for filename in filenames:\n",
    "            if filename != '.DS_Store': \n",
    "                img = cv2.cvtColor(cv2.imread(dirPath+'/'+filename), cv2.COLOR_BGR2GRAY)\n",
    "                label = int(filename.split('_')[0])\n",
    "                X.append(img)\n",
    "                y.append(label)\n",
    "    return X, y\n",
    "\n",
    "X_nir, y_nir = loadData('dataset2/NIR')\n",
    "X_vsb, y_vsb = loadData('dataset2/VSB')\n",
    "\n",
    "X_train_nir, X_test_nir, y_train_nir, y_test_nir = train_test_split(X_nir, y_nir, test_size=0.2, random_state=42)\n",
    "X_train_vsb, X_test_vsb, y_train_vsb, y_test_vsb = train_test_split(X_vsb, y_vsb, test_size=0.2, random_state=42)\n",
    "\n",
    "# # Normalize pixel values to be between 0 and 1\n",
    "# X_train_nir, X_test_nir = X_train_nir / 255.0, X_test_nir / 255.0\n",
    "# X_train_vsb, X_test_vsb = X_train_vsb / 255.0, X_test_vsb / 255.0"
   ]
  },
  {
   "cell_type": "code",
   "execution_count": 3,
   "metadata": {
    "colab": {},
    "colab_type": "code",
    "id": "L9YmGQBQPrdn"
   },
   "outputs": [
    {
     "name": "stdout",
     "output_type": "stream",
     "text": [
      "Model: \"sequential\"\n",
      "_________________________________________________________________\n",
      "Layer (type)                 Output Shape              Param #   \n",
      "=================================================================\n",
      "conv2d (Conv2D)              (None, 198, 198, 32)      320       \n",
      "_________________________________________________________________\n",
      "max_pooling2d (MaxPooling2D) (None, 99, 99, 32)        0         \n",
      "_________________________________________________________________\n",
      "conv2d_1 (Conv2D)            (None, 97, 97, 64)        18496     \n",
      "_________________________________________________________________\n",
      "max_pooling2d_1 (MaxPooling2 (None, 48, 48, 64)        0         \n",
      "_________________________________________________________________\n",
      "conv2d_2 (Conv2D)            (None, 46, 46, 64)        36928     \n",
      "_________________________________________________________________\n",
      "flatten (Flatten)            (None, 135424)            0         \n",
      "_________________________________________________________________\n",
      "dense (Dense)                (None, 64)                8667200   \n",
      "_________________________________________________________________\n",
      "dense_1 (Dense)              (None, 51)                3315      \n",
      "=================================================================\n",
      "Total params: 8,726,259\n",
      "Trainable params: 8,726,259\n",
      "Non-trainable params: 0\n",
      "_________________________________________________________________\n"
     ]
    }
   ],
   "source": [
    "# NIR\n",
    "model = models.Sequential()\n",
    "model.add(layers.Conv2D(32, (3, 3), activation='relu', input_shape=(200, 200, 1)))\n",
    "model.add(layers.MaxPooling2D((2, 2)))\n",
    "model.add(layers.Conv2D(64, (3, 3), activation='relu'))\n",
    "model.add(layers.MaxPooling2D((2, 2)))\n",
    "model.add(layers.Conv2D(64, (3, 3), activation='relu'))\n",
    "model.add(layers.Flatten())\n",
    "model.add(layers.Dense(64, activation='relu'))\n",
    "model.add(layers.Dense(51))\n",
    "model.summary()"
   ]
  },
  {
   "cell_type": "code",
   "execution_count": 4,
   "metadata": {},
   "outputs": [
    {
     "name": "stdout",
     "output_type": "stream",
     "text": [
      "Model: \"sequential_1\"\n",
      "_________________________________________________________________\n",
      "Layer (type)                 Output Shape              Param #   \n",
      "=================================================================\n",
      "conv2d_3 (Conv2D)            (None, 198, 198, 32)      320       \n",
      "_________________________________________________________________\n",
      "max_pooling2d_2 (MaxPooling2 (None, 99, 99, 32)        0         \n",
      "_________________________________________________________________\n",
      "conv2d_4 (Conv2D)            (None, 97, 97, 64)        18496     \n",
      "_________________________________________________________________\n",
      "max_pooling2d_3 (MaxPooling2 (None, 48, 48, 64)        0         \n",
      "_________________________________________________________________\n",
      "conv2d_5 (Conv2D)            (None, 46, 46, 64)        36928     \n",
      "_________________________________________________________________\n",
      "flatten_1 (Flatten)          (None, 135424)            0         \n",
      "_________________________________________________________________\n",
      "dense_2 (Dense)              (None, 64)                8667200   \n",
      "_________________________________________________________________\n",
      "dense_3 (Dense)              (None, 51)                3315      \n",
      "=================================================================\n",
      "Total params: 8,726,259\n",
      "Trainable params: 8,726,259\n",
      "Non-trainable params: 0\n",
      "_________________________________________________________________\n"
     ]
    }
   ],
   "source": [
    "#VSB\n",
    "model1 = models.Sequential()\n",
    "model1.add(layers.Conv2D(32, (3, 3), activation='relu', input_shape=(200, 200, 1)))\n",
    "model1.add(layers.MaxPooling2D((2, 2)))\n",
    "model1.add(layers.Conv2D(64, (3, 3), activation='relu'))\n",
    "model1.add(layers.MaxPooling2D((2, 2)))\n",
    "model1.add(layers.Conv2D(64, (3, 3), activation='relu'))\n",
    "model1.add(layers.Flatten())\n",
    "model1.add(layers.Dense(64, activation='relu'))\n",
    "model1.add(layers.Dense(51))\n",
    "model1.summary()"
   ]
  },
  {
   "cell_type": "markdown",
   "metadata": {
    "colab_type": "text",
    "id": "P3odqfHP4M67"
   },
   "source": [
    "### Compile and train the model"
   ]
  },
  {
   "cell_type": "code",
   "execution_count": 5,
   "metadata": {
    "colab": {},
    "colab_type": "code",
    "id": "MdDzI75PUXrG"
   },
   "outputs": [
    {
     "name": "stdout",
     "output_type": "stream",
     "text": [
      "Epoch 1/20\n",
      "25/25 [==============================] - 18s 723ms/step - loss: 40.1088 - accuracy: 0.0338\n",
      "Epoch 2/20\n",
      "25/25 [==============================] - 20s 786ms/step - loss: 3.8393 - accuracy: 0.1338\n",
      "Epoch 3/20\n",
      "25/25 [==============================] - 18s 718ms/step - loss: 3.5234 - accuracy: 0.1825\n",
      "Epoch 4/20\n",
      "25/25 [==============================] - 17s 678ms/step - loss: 3.1755 - accuracy: 0.2600\n",
      "Epoch 5/20\n",
      "25/25 [==============================] - 17s 680ms/step - loss: 3.0037 - accuracy: 0.3075\n",
      "Epoch 6/20\n",
      "25/25 [==============================] - 17s 685ms/step - loss: 2.1123 - accuracy: 0.5288\n",
      "Epoch 7/20\n",
      "25/25 [==============================] - 19s 755ms/step - loss: 0.6521 - accuracy: 0.8475\n",
      "Epoch 8/20\n",
      "25/25 [==============================] - 18s 734ms/step - loss: 0.4401 - accuracy: 0.9362\n",
      "Epoch 9/20\n",
      "25/25 [==============================] - 18s 726ms/step - loss: 0.2568 - accuracy: 0.9588\n",
      "Epoch 10/20\n",
      "25/25 [==============================] - 17s 688ms/step - loss: 0.0854 - accuracy: 0.9825\n",
      "Epoch 11/20\n",
      "25/25 [==============================] - 17s 696ms/step - loss: 0.0455 - accuracy: 0.9912\n",
      "Epoch 12/20\n",
      "25/25 [==============================] - 18s 712ms/step - loss: 0.7612 - accuracy: 0.8587\n",
      "Epoch 13/20\n",
      "25/25 [==============================] - 17s 681ms/step - loss: 1.0177 - accuracy: 0.8275\n",
      "Epoch 14/20\n",
      "25/25 [==============================] - 17s 689ms/step - loss: 0.1705 - accuracy: 0.9538\n",
      "Epoch 15/20\n",
      "25/25 [==============================] - 19s 743ms/step - loss: 0.0945 - accuracy: 0.9900\n",
      "Epoch 16/20\n",
      "25/25 [==============================] - 18s 713ms/step - loss: 0.0210 - accuracy: 0.9962\n",
      "Epoch 17/20\n",
      "25/25 [==============================] - 18s 716ms/step - loss: 0.0121 - accuracy: 0.9987\n",
      "Epoch 18/20\n",
      "25/25 [==============================] - 18s 712ms/step - loss: 0.0095 - accuracy: 0.9975\n",
      "Epoch 19/20\n",
      "25/25 [==============================] - 17s 694ms/step - loss: 7.5125e-04 - accuracy: 1.0000\n",
      "Epoch 20/20\n",
      "25/25 [==============================] - 17s 692ms/step - loss: 2.1850e-04 - accuracy: 1.0000\n",
      "Epoch 1/20\n",
      "25/25 [==============================] - 17s 689ms/step - loss: 68.1582 - accuracy: 0.0288\n",
      "Epoch 2/20\n",
      "25/25 [==============================] - 17s 683ms/step - loss: 3.4124 - accuracy: 0.1912\n",
      "Epoch 3/20\n",
      "25/25 [==============================] - 17s 683ms/step - loss: 1.4045 - accuracy: 0.6775\n",
      "Epoch 4/20\n",
      "25/25 [==============================] - 18s 707ms/step - loss: 0.5250 - accuracy: 0.8662\n",
      "Epoch 5/20\n",
      "25/25 [==============================] - 18s 714ms/step - loss: 0.2509 - accuracy: 0.9413\n",
      "Epoch 6/20\n",
      "25/25 [==============================] - 17s 688ms/step - loss: 0.1731 - accuracy: 0.9663\n",
      "Epoch 7/20\n",
      "25/25 [==============================] - 18s 738ms/step - loss: 0.0568 - accuracy: 0.9837\n",
      "Epoch 8/20\n",
      "25/25 [==============================] - 19s 751ms/step - loss: 0.0262 - accuracy: 0.9925\n",
      "Epoch 9/20\n",
      "25/25 [==============================] - 19s 751ms/step - loss: 0.0105 - accuracy: 0.9987\n",
      "Epoch 10/20\n",
      "25/25 [==============================] - 17s 677ms/step - loss: 0.0028 - accuracy: 1.0000\n",
      "Epoch 11/20\n",
      "25/25 [==============================] - 17s 687ms/step - loss: 3.4295e-04 - accuracy: 1.0000\n",
      "Epoch 12/20\n",
      "25/25 [==============================] - 17s 683ms/step - loss: 1.3593e-04 - accuracy: 1.0000\n",
      "Epoch 13/20\n",
      "25/25 [==============================] - 17s 684ms/step - loss: 1.0415e-04 - accuracy: 1.0000\n",
      "Epoch 14/20\n",
      "25/25 [==============================] - 17s 686ms/step - loss: 8.4702e-05 - accuracy: 1.0000\n",
      "Epoch 15/20\n",
      "25/25 [==============================] - 17s 681ms/step - loss: 7.3500e-05 - accuracy: 1.0000\n",
      "Epoch 16/20\n",
      "25/25 [==============================] - 18s 703ms/step - loss: 6.3317e-05 - accuracy: 1.0000\n",
      "Epoch 17/20\n",
      "25/25 [==============================] - 17s 698ms/step - loss: 5.5984e-05 - accuracy: 1.0000\n",
      "Epoch 18/20\n",
      "25/25 [==============================] - 17s 684ms/step - loss: 4.9060e-05 - accuracy: 1.0000\n",
      "Epoch 19/20\n",
      "25/25 [==============================] - 17s 678ms/step - loss: 4.4470e-05 - accuracy: 1.0000\n",
      "Epoch 20/20\n",
      "25/25 [==============================] - 17s 693ms/step - loss: 3.6882e-05 - accuracy: 1.0000\n"
     ]
    }
   ],
   "source": [
    "model.compile(optimizer='adam',\n",
    "              loss=tf.keras.losses.SparseCategoricalCrossentropy(from_logits=True),\n",
    "              metrics=['accuracy'])\n",
    "\n",
    "history = model.fit(np.array(X_train_nir).reshape(-1, 200, 200, 1), np.array(y_train_nir), epochs=20)\n",
    "\n",
    "model1.compile(optimizer='adam',\n",
    "              loss=tf.keras.losses.SparseCategoricalCrossentropy(from_logits=True),\n",
    "              metrics=['accuracy'])\n",
    "\n",
    "history1 = model1.fit(np.array(X_train_vsb).reshape(-1, 200, 200, 1), np.array(y_train_vsb), epochs=20)"
   ]
  },
  {
   "cell_type": "markdown",
   "metadata": {
    "colab_type": "text",
    "id": "jKgyC5K_4O0d"
   },
   "source": [
    "### Evaluate the model"
   ]
  },
  {
   "cell_type": "code",
   "execution_count": 9,
   "metadata": {
    "colab": {},
    "colab_type": "code",
    "id": "gtyDF0MKUcM7"
   },
   "outputs": [
    {
     "name": "stdout",
     "output_type": "stream",
     "text": [
      "7/7 - 1s - loss: 5.6325 - accuracy: 0.6250\n",
      "7/7 - 1s - loss: 1.5999 - accuracy: 0.8300\n"
     ]
    }
   ],
   "source": [
    "# plt.plot(history.history['accuracy'], label='accuracy')\n",
    "# # plt.plot(history.history['val_accuracy'], label = 'val_accuracy')\n",
    "# plt.xlabel('Epoch')\n",
    "# plt.ylabel('Accuracy')\n",
    "# plt.ylim([0.5, 1])\n",
    "# plt.legend(loc='lower right')\n",
    "\n",
    "test_loss, test_acc = model.evaluate(np.array(X_test_nir).reshape(-1, 200, 200, 1),  np.array(y_test_nir), verbose=2)\n",
    "test_loss1, test_acc1 = model1.evaluate(np.array(X_test_vsb).reshape(-1, 200, 200, 1),  np.array(y_test_vsb), verbose=2)"
   ]
  },
  {
   "cell_type": "code",
   "execution_count": 10,
   "metadata": {
    "colab": {},
    "colab_type": "code",
    "id": "0LvwaKhtUdOo"
   },
   "outputs": [
    {
     "name": "stdout",
     "output_type": "stream",
     "text": [
      "0.625\n",
      "0.8299999833106995\n"
     ]
    }
   ],
   "source": [
    "print(test_acc)\n",
    "print(test_acc1)"
   ]
  },
  {
   "cell_type": "markdown",
   "metadata": {
    "colab_type": "text",
    "id": "8cfJ8AR03gT5"
   },
   "source": [
    "Our simple CNN has achieved a test accuracy of over 70%. Not bad for a few lines of code! For another CNN style, see an example using the Keras subclassing API and a `tf.GradientTape` [here](https://www.tensorflow.org/tutorials/quickstart/advanced)."
   ]
  }
 ],
 "metadata": {
  "accelerator": "GPU",
  "colab": {
   "collapsed_sections": [],
   "name": "cnn.ipynb",
   "private_outputs": true,
   "provenance": [],
   "toc_visible": true
  },
  "kernelspec": {
   "display_name": "Python 3.7.3 64-bit",
   "language": "python",
   "name": "python37364bit696aeacbd28c44b899a0d42ab4842e74"
  },
  "language_info": {
   "codemirror_mode": {
    "name": "ipython",
    "version": 3
   },
   "file_extension": ".py",
   "mimetype": "text/x-python",
   "name": "python",
   "nbconvert_exporter": "python",
   "pygments_lexer": "ipython3",
   "version": "3.7.3"
  }
 },
 "nbformat": 4,
 "nbformat_minor": 1
}
